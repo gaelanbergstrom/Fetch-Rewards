{
 "cells": [
  {
   "cell_type": "markdown",
   "id": "4addff4b",
   "metadata": {},
   "source": [
    "# Fetch Rewards Coding Exercise - Data Analyst"
   ]
  },
  {
   "cell_type": "markdown",
   "id": "9a997306",
   "metadata": {},
   "source": [
    "## SQL setup and data cleansing"
   ]
  },
  {
   "cell_type": "markdown",
   "id": "ae452a20",
   "metadata": {},
   "source": [
    "Install pandas sqlalchemy to attempt to sql query in juypter, we will be using sqlite"
   ]
  },
  {
   "cell_type": "code",
   "execution_count": 1,
   "id": "ead90850",
   "metadata": {
    "scrolled": false
   },
   "outputs": [
    {
     "name": "stdout",
     "output_type": "stream",
     "text": [
      "Requirement already satisfied: pandas in c:\\users\\18607\\anaconda3\\lib\\site-packages (1.3.4)\n",
      "Requirement already satisfied: sqlalchemy in c:\\users\\18607\\anaconda3\\lib\\site-packages (1.4.22)\n",
      "Requirement already satisfied: numpy>=1.17.3 in c:\\users\\18607\\anaconda3\\lib\\site-packages (from pandas) (1.20.3)\n",
      "Requirement already satisfied: python-dateutil>=2.7.3 in c:\\users\\18607\\anaconda3\\lib\\site-packages (from pandas) (2.8.2)\n",
      "Requirement already satisfied: pytz>=2017.3 in c:\\users\\18607\\anaconda3\\lib\\site-packages (from pandas) (2021.3)\n",
      "Requirement already satisfied: greenlet!=0.4.17 in c:\\users\\18607\\anaconda3\\lib\\site-packages (from sqlalchemy) (1.1.1)\n",
      "Requirement already satisfied: six>=1.5 in c:\\users\\18607\\anaconda3\\lib\\site-packages (from python-dateutil>=2.7.3->pandas) (1.16.0)\n",
      "Note: you may need to restart the kernel to use updated packages.\n"
     ]
    }
   ],
   "source": [
    "pip install pandas sqlalchemy"
   ]
  },
  {
   "cell_type": "markdown",
   "id": "cbb99dd1",
   "metadata": {},
   "source": [
    "Install libraries"
   ]
  },
  {
   "cell_type": "code",
   "execution_count": 2,
   "id": "2e28931e",
   "metadata": {},
   "outputs": [],
   "source": [
    "import pandas as pd\n",
    "import json\n",
    "import sqlite3\n",
    "import gzip\n",
    "import shutil\n",
    "from pandas.io.json import json_normalize"
   ]
  },
  {
   "cell_type": "markdown",
   "id": "a14f932e",
   "metadata": {},
   "source": [
    "Open compressed json files using gzip library, then open json files saving the file to df using json library. Finally convert df to a dataframe and name it using pandas "
   ]
  },
  {
   "cell_type": "markdown",
   "id": "23aa1f99",
   "metadata": {},
   "source": [
    "Sources: \n",
    "\n",
    "gz code source:\n",
    "https://stackoverflow.com/questions/31028815/how-to-unzip-gz-file-using-python\n",
    "\n",
    "json errors: \n",
    "https://twittercommunity.com/t/json-files-downloaded-via-searchtweets-returning-errors-i-havent-received-using-json-files-from-twurl/126025/5"
   ]
  },
  {
   "cell_type": "code",
   "execution_count": 3,
   "id": "e4ee9b90",
   "metadata": {},
   "outputs": [
    {
     "name": "stderr",
     "output_type": "stream",
     "text": [
      "C:\\Users\\18607\\AppData\\Local\\Temp/ipykernel_15432/1481673534.py:6: FutureWarning: pandas.io.json.json_normalize is deprecated, use pandas.json_normalize instead\n",
      "  receipts = pd.DataFrame(json_normalize([json.loads(line) for line in f.readlines()]))\n"
     ]
    }
   ],
   "source": [
    "with gzip.open('receipts.json.gz', 'rb') as f_in:\n",
    "    with open('receipts.json', 'wb') as f_out:\n",
    "        shutil.copyfileobj(f_in, f_out)\n",
    "\n",
    "with open('receipts.json') as f:\n",
    "    receipts = pd.DataFrame(json_normalize([json.loads(line) for line in f.readlines()]))        "
   ]
  },
  {
   "cell_type": "code",
   "execution_count": 4,
   "id": "8a3693bb",
   "metadata": {},
   "outputs": [
    {
     "name": "stderr",
     "output_type": "stream",
     "text": [
      "C:\\Users\\18607\\AppData\\Local\\Temp/ipykernel_15432/3118945643.py:6: FutureWarning: pandas.io.json.json_normalize is deprecated, use pandas.json_normalize instead\n",
      "  users = pd.DataFrame(json_normalize([json.loads(line) for line in f.readlines()]))\n"
     ]
    }
   ],
   "source": [
    "with gzip.open('users.json.gz', 'rb') as f_in:\n",
    "    with open('users.json', 'wb') as f_out:\n",
    "        shutil.copyfileobj(f_in, f_out)\n",
    "\n",
    "with open('users.json') as f:\n",
    "    users = pd.DataFrame(json_normalize([json.loads(line) for line in f.readlines()]))        "
   ]
  },
  {
   "cell_type": "code",
   "execution_count": 5,
   "id": "957c70be",
   "metadata": {
    "scrolled": true
   },
   "outputs": [
    {
     "name": "stderr",
     "output_type": "stream",
     "text": [
      "C:\\Users\\18607\\AppData\\Local\\Temp/ipykernel_15432/2916989338.py:6: FutureWarning: pandas.io.json.json_normalize is deprecated, use pandas.json_normalize instead\n",
      "  brands = pd.DataFrame(json_normalize([json.loads(line) for line in f.readlines()]))\n"
     ]
    }
   ],
   "source": [
    "with gzip.open('brands.json.gz', 'rb') as f_in:\n",
    "    with open('brands.json', 'wb') as f_out:\n",
    "        shutil.copyfileobj(f_in, f_out)\n",
    "\n",
    "with open('brands.json') as f:\n",
    "    brands = pd.DataFrame(json_normalize([json.loads(line) for line in f.readlines()]))        "
   ]
  },
  {
   "cell_type": "markdown",
   "id": "5e2c75e2",
   "metadata": {},
   "source": [
    "Check to make sure it worked and then begin data cleansing, will be using the receipts file"
   ]
  },
  {
   "cell_type": "code",
   "execution_count": 6,
   "id": "3baeddf0",
   "metadata": {
    "scrolled": true
   },
   "outputs": [
    {
     "data": {
      "text/html": [
       "<div>\n",
       "<style scoped>\n",
       "    .dataframe tbody tr th:only-of-type {\n",
       "        vertical-align: middle;\n",
       "    }\n",
       "\n",
       "    .dataframe tbody tr th {\n",
       "        vertical-align: top;\n",
       "    }\n",
       "\n",
       "    .dataframe thead th {\n",
       "        text-align: right;\n",
       "    }\n",
       "</style>\n",
       "<table border=\"1\" class=\"dataframe\">\n",
       "  <thead>\n",
       "    <tr style=\"text-align: right;\">\n",
       "      <th></th>\n",
       "      <th>bonusPointsEarned</th>\n",
       "      <th>bonusPointsEarnedReason</th>\n",
       "      <th>pointsEarned</th>\n",
       "      <th>purchasedItemCount</th>\n",
       "      <th>rewardsReceiptItemList</th>\n",
       "      <th>rewardsReceiptStatus</th>\n",
       "      <th>totalSpent</th>\n",
       "      <th>userId</th>\n",
       "      <th>_id.$oid</th>\n",
       "      <th>createDate.$date</th>\n",
       "      <th>dateScanned.$date</th>\n",
       "      <th>finishedDate.$date</th>\n",
       "      <th>modifyDate.$date</th>\n",
       "      <th>pointsAwardedDate.$date</th>\n",
       "      <th>purchaseDate.$date</th>\n",
       "    </tr>\n",
       "  </thead>\n",
       "  <tbody>\n",
       "    <tr>\n",
       "      <th>0</th>\n",
       "      <td>500.0</td>\n",
       "      <td>Receipt number 2 completed, bonus point schedu...</td>\n",
       "      <td>500.0</td>\n",
       "      <td>5.0</td>\n",
       "      <td>[{'barcode': '4011', 'description': 'ITEM NOT ...</td>\n",
       "      <td>FINISHED</td>\n",
       "      <td>26.00</td>\n",
       "      <td>5ff1e1eacfcf6c399c274ae6</td>\n",
       "      <td>5ff1e1eb0a720f0523000575</td>\n",
       "      <td>1609687531000</td>\n",
       "      <td>1609687531000</td>\n",
       "      <td>1.609688e+12</td>\n",
       "      <td>1609687536000</td>\n",
       "      <td>1.609688e+12</td>\n",
       "      <td>1.609632e+12</td>\n",
       "    </tr>\n",
       "    <tr>\n",
       "      <th>1</th>\n",
       "      <td>150.0</td>\n",
       "      <td>Receipt number 5 completed, bonus point schedu...</td>\n",
       "      <td>150.0</td>\n",
       "      <td>2.0</td>\n",
       "      <td>[{'barcode': '4011', 'description': 'ITEM NOT ...</td>\n",
       "      <td>FINISHED</td>\n",
       "      <td>11.00</td>\n",
       "      <td>5ff1e194b6a9d73a3a9f1052</td>\n",
       "      <td>5ff1e1bb0a720f052300056b</td>\n",
       "      <td>1609687483000</td>\n",
       "      <td>1609687483000</td>\n",
       "      <td>1.609687e+12</td>\n",
       "      <td>1609687488000</td>\n",
       "      <td>1.609687e+12</td>\n",
       "      <td>1.609601e+12</td>\n",
       "    </tr>\n",
       "    <tr>\n",
       "      <th>2</th>\n",
       "      <td>5.0</td>\n",
       "      <td>All-receipts receipt bonus</td>\n",
       "      <td>5</td>\n",
       "      <td>1.0</td>\n",
       "      <td>[{'needsFetchReview': False, 'partnerItemId': ...</td>\n",
       "      <td>REJECTED</td>\n",
       "      <td>10.00</td>\n",
       "      <td>5ff1e1f1cfcf6c399c274b0b</td>\n",
       "      <td>5ff1e1f10a720f052300057a</td>\n",
       "      <td>1609687537000</td>\n",
       "      <td>1609687537000</td>\n",
       "      <td>NaN</td>\n",
       "      <td>1609687542000</td>\n",
       "      <td>NaN</td>\n",
       "      <td>1.609632e+12</td>\n",
       "    </tr>\n",
       "    <tr>\n",
       "      <th>3</th>\n",
       "      <td>5.0</td>\n",
       "      <td>All-receipts receipt bonus</td>\n",
       "      <td>5.0</td>\n",
       "      <td>4.0</td>\n",
       "      <td>[{'barcode': '4011', 'description': 'ITEM NOT ...</td>\n",
       "      <td>FINISHED</td>\n",
       "      <td>28.00</td>\n",
       "      <td>5ff1e1eacfcf6c399c274ae6</td>\n",
       "      <td>5ff1e1ee0a7214ada100056f</td>\n",
       "      <td>1609687534000</td>\n",
       "      <td>1609687534000</td>\n",
       "      <td>1.609688e+12</td>\n",
       "      <td>1609687539000</td>\n",
       "      <td>1.609688e+12</td>\n",
       "      <td>1.609632e+12</td>\n",
       "    </tr>\n",
       "    <tr>\n",
       "      <th>4</th>\n",
       "      <td>5.0</td>\n",
       "      <td>All-receipts receipt bonus</td>\n",
       "      <td>5.0</td>\n",
       "      <td>2.0</td>\n",
       "      <td>[{'barcode': '4011', 'description': 'ITEM NOT ...</td>\n",
       "      <td>FINISHED</td>\n",
       "      <td>1.00</td>\n",
       "      <td>5ff1e194b6a9d73a3a9f1052</td>\n",
       "      <td>5ff1e1d20a7214ada1000561</td>\n",
       "      <td>1609687506000</td>\n",
       "      <td>1609687506000</td>\n",
       "      <td>1.609688e+12</td>\n",
       "      <td>1609687511000</td>\n",
       "      <td>1.609688e+12</td>\n",
       "      <td>1.609601e+12</td>\n",
       "    </tr>\n",
       "  </tbody>\n",
       "</table>\n",
       "</div>"
      ],
      "text/plain": [
       "   bonusPointsEarned                            bonusPointsEarnedReason  \\\n",
       "0              500.0  Receipt number 2 completed, bonus point schedu...   \n",
       "1              150.0  Receipt number 5 completed, bonus point schedu...   \n",
       "2                5.0                         All-receipts receipt bonus   \n",
       "3                5.0                         All-receipts receipt bonus   \n",
       "4                5.0                         All-receipts receipt bonus   \n",
       "\n",
       "  pointsEarned  purchasedItemCount  \\\n",
       "0        500.0                 5.0   \n",
       "1        150.0                 2.0   \n",
       "2            5                 1.0   \n",
       "3          5.0                 4.0   \n",
       "4          5.0                 2.0   \n",
       "\n",
       "                              rewardsReceiptItemList rewardsReceiptStatus  \\\n",
       "0  [{'barcode': '4011', 'description': 'ITEM NOT ...             FINISHED   \n",
       "1  [{'barcode': '4011', 'description': 'ITEM NOT ...             FINISHED   \n",
       "2  [{'needsFetchReview': False, 'partnerItemId': ...             REJECTED   \n",
       "3  [{'barcode': '4011', 'description': 'ITEM NOT ...             FINISHED   \n",
       "4  [{'barcode': '4011', 'description': 'ITEM NOT ...             FINISHED   \n",
       "\n",
       "  totalSpent                    userId                  _id.$oid  \\\n",
       "0      26.00  5ff1e1eacfcf6c399c274ae6  5ff1e1eb0a720f0523000575   \n",
       "1      11.00  5ff1e194b6a9d73a3a9f1052  5ff1e1bb0a720f052300056b   \n",
       "2      10.00  5ff1e1f1cfcf6c399c274b0b  5ff1e1f10a720f052300057a   \n",
       "3      28.00  5ff1e1eacfcf6c399c274ae6  5ff1e1ee0a7214ada100056f   \n",
       "4       1.00  5ff1e194b6a9d73a3a9f1052  5ff1e1d20a7214ada1000561   \n",
       "\n",
       "   createDate.$date  dateScanned.$date  finishedDate.$date  modifyDate.$date  \\\n",
       "0     1609687531000      1609687531000        1.609688e+12     1609687536000   \n",
       "1     1609687483000      1609687483000        1.609687e+12     1609687488000   \n",
       "2     1609687537000      1609687537000                 NaN     1609687542000   \n",
       "3     1609687534000      1609687534000        1.609688e+12     1609687539000   \n",
       "4     1609687506000      1609687506000        1.609688e+12     1609687511000   \n",
       "\n",
       "   pointsAwardedDate.$date  purchaseDate.$date  \n",
       "0             1.609688e+12        1.609632e+12  \n",
       "1             1.609687e+12        1.609601e+12  \n",
       "2                      NaN        1.609632e+12  \n",
       "3             1.609688e+12        1.609632e+12  \n",
       "4             1.609688e+12        1.609601e+12  "
      ]
     },
     "execution_count": 6,
     "metadata": {},
     "output_type": "execute_result"
    }
   ],
   "source": [
    "receipts.head()"
   ]
  },
  {
   "cell_type": "markdown",
   "id": "7982bb6d",
   "metadata": {},
   "source": [
    "Check the data type of each column then check for null values"
   ]
  },
  {
   "cell_type": "code",
   "execution_count": 21,
   "id": "c3267341",
   "metadata": {
    "scrolled": false
   },
   "outputs": [
    {
     "name": "stdout",
     "output_type": "stream",
     "text": [
      "<class 'pandas.core.frame.DataFrame'>\n",
      "RangeIndex: 1119 entries, 0 to 1118\n",
      "Data columns (total 15 columns):\n",
      " #   Column                   Non-Null Count  Dtype  \n",
      "---  ------                   --------------  -----  \n",
      " 0   bonusPointsEarned        544 non-null    float64\n",
      " 1   bonusPointsEarnedReason  1119 non-null   object \n",
      " 2   pointsEarned             609 non-null    float64\n",
      " 3   purchasedItemCount       635 non-null    float64\n",
      " 4   rewardsReceiptItemList   1119 non-null   object \n",
      " 5   rewardsReceiptStatus     1119 non-null   object \n",
      " 6   totalSpent               684 non-null    float64\n",
      " 7   userId                   1119 non-null   object \n",
      " 8   _id.$oid                 1119 non-null   object \n",
      " 9   createDate.$date         1119 non-null   int64  \n",
      " 10  dateScanned.$date        1119 non-null   int64  \n",
      " 11  finishedDate.$date       568 non-null    float64\n",
      " 12  modifyDate.$date         1119 non-null   int64  \n",
      " 13  pointsAwardedDate.$date  537 non-null    float64\n",
      " 14  purchaseDate.$date       671 non-null    float64\n",
      "dtypes: float64(7), int64(3), object(5)\n",
      "memory usage: 131.3+ KB\n",
      "bonusPointsEarned          575\n",
      "bonusPointsEarnedReason      0\n",
      "pointsEarned               510\n",
      "purchasedItemCount         484\n",
      "rewardsReceiptItemList       0\n",
      "rewardsReceiptStatus         0\n",
      "totalSpent                 435\n",
      "userId                       0\n",
      "_id.$oid                     0\n",
      "createDate.$date             0\n",
      "dateScanned.$date            0\n",
      "finishedDate.$date         551\n",
      "modifyDate.$date             0\n",
      "pointsAwardedDate.$date    582\n",
      "purchaseDate.$date         448\n",
      "dtype: int64\n"
     ]
    }
   ],
   "source": [
    "receipts.info()\n",
    "print(receipts.isnull().sum())"
   ]
  },
  {
   "cell_type": "markdown",
   "id": "d837ff41",
   "metadata": {},
   "source": [
    "Some of the columns have more nulls than non-null values. This will cause a problem with any calculations done in the future. There needs to be an agreed upon way to address these cases whether they are intentional or not. Additionally, for the sake of attempting to run SQL in jupyter notebook, some of the column types will not allow for the creation of a table in our database. We have to change the type manually. Another problem that will be a problem later on is that the date columns are int and not in a date format. "
   ]
  },
  {
   "cell_type": "code",
   "execution_count": 9,
   "id": "dad768ff",
   "metadata": {},
   "outputs": [],
   "source": [
    "receipts['bonusPointsEarnedReason'] = receipts['bonusPointsEarnedReason'].astype(str, errors = 'raise')\n",
    "receipts['pointsEarned'] = receipts['pointsEarned'].astype(float, errors = 'raise')\n",
    "receipts['rewardsReceiptItemList'] = receipts['rewardsReceiptItemList'].astype(str, errors = 'raise')\n",
    "receipts['rewardsReceiptStatus'] = receipts['rewardsReceiptStatus'].astype(str, errors = 'raise')\n",
    "receipts['totalSpent'] = receipts['totalSpent'].astype(float, errors = 'raise')\n",
    "receipts['_id.$oid'] = receipts['_id.$oid'].astype(str, errors = 'raise')"
   ]
  },
  {
   "cell_type": "markdown",
   "id": "0f47ed43",
   "metadata": {},
   "source": [
    "We check to see what the values are now. "
   ]
  },
  {
   "cell_type": "code",
   "execution_count": 10,
   "id": "488ca907",
   "metadata": {},
   "outputs": [
    {
     "name": "stdout",
     "output_type": "stream",
     "text": [
      "<class 'pandas.core.frame.DataFrame'>\n",
      "RangeIndex: 1119 entries, 0 to 1118\n",
      "Data columns (total 15 columns):\n",
      " #   Column                   Non-Null Count  Dtype  \n",
      "---  ------                   --------------  -----  \n",
      " 0   bonusPointsEarned        544 non-null    float64\n",
      " 1   bonusPointsEarnedReason  1119 non-null   object \n",
      " 2   pointsEarned             609 non-null    float64\n",
      " 3   purchasedItemCount       635 non-null    float64\n",
      " 4   rewardsReceiptItemList   1119 non-null   object \n",
      " 5   rewardsReceiptStatus     1119 non-null   object \n",
      " 6   totalSpent               684 non-null    float64\n",
      " 7   userId                   1119 non-null   object \n",
      " 8   _id.$oid                 1119 non-null   object \n",
      " 9   createDate.$date         1119 non-null   int64  \n",
      " 10  dateScanned.$date        1119 non-null   int64  \n",
      " 11  finishedDate.$date       568 non-null    float64\n",
      " 12  modifyDate.$date         1119 non-null   int64  \n",
      " 13  pointsAwardedDate.$date  537 non-null    float64\n",
      " 14  purchaseDate.$date       671 non-null    float64\n",
      "dtypes: float64(7), int64(3), object(5)\n",
      "memory usage: 131.3+ KB\n"
     ]
    }
   ],
   "source": [
    "receipts.info()"
   ]
  },
  {
   "cell_type": "markdown",
   "id": "f63313e7",
   "metadata": {},
   "source": [
    "Use sqlite3 to create a connection to our empty database called cnn"
   ]
  },
  {
   "cell_type": "code",
   "execution_count": 11,
   "id": "ea09741a",
   "metadata": {},
   "outputs": [],
   "source": [
    "cnn = sqlite3.connect(\"fetch.db\")"
   ]
  },
  {
   "cell_type": "code",
   "execution_count": 12,
   "id": "7c4dae9d",
   "metadata": {},
   "outputs": [],
   "source": [
    "# Allow us to query or modify the data\n",
    "c = cnn.cursor()"
   ]
  },
  {
   "cell_type": "markdown",
   "id": "f1bb9df8",
   "metadata": {},
   "source": [
    "Add our tables into the empty database we created using the connection cnn"
   ]
  },
  {
   "cell_type": "code",
   "execution_count": 13,
   "id": "b4cf5152",
   "metadata": {},
   "outputs": [],
   "source": [
    "users.to_sql('users', cnn, if_exists = 'replace')"
   ]
  },
  {
   "cell_type": "code",
   "execution_count": 14,
   "id": "f8c4488a",
   "metadata": {},
   "outputs": [],
   "source": [
    "brands.to_sql('brands', cnn, if_exists = 'replace')"
   ]
  },
  {
   "cell_type": "code",
   "execution_count": 15,
   "id": "e8a9357d",
   "metadata": {},
   "outputs": [],
   "source": [
    "receipts.to_sql('receipts', cnn, if_exists = 'replace')"
   ]
  },
  {
   "cell_type": "markdown",
   "id": "aa2a59f7",
   "metadata": {},
   "source": [
    "Load sql module and connect it to our database 'fetch'"
   ]
  },
  {
   "cell_type": "code",
   "execution_count": 16,
   "id": "84e48e86",
   "metadata": {},
   "outputs": [],
   "source": [
    "%load_ext sql"
   ]
  },
  {
   "cell_type": "code",
   "execution_count": 17,
   "id": "add11b88",
   "metadata": {},
   "outputs": [],
   "source": [
    "%sql sqlite:///fetch.db"
   ]
  },
  {
   "cell_type": "markdown",
   "id": "9b5c69a7",
   "metadata": {},
   "source": [
    "Source: https://www.youtube.com/watch?v=sDY_fKe_JVw"
   ]
  },
  {
   "cell_type": "markdown",
   "id": "5e491130",
   "metadata": {},
   "source": [
    "Check to make sure it works:"
   ]
  },
  {
   "cell_type": "code",
   "execution_count": 18,
   "id": "b4eb5641",
   "metadata": {
    "scrolled": false
   },
   "outputs": [
    {
     "name": "stdout",
     "output_type": "stream",
     "text": [
      " * sqlite:///fetch.db\n",
      "Done.\n"
     ]
    },
    {
     "data": {
      "text/html": [
       "<table>\n",
       "    <tr>\n",
       "        <th>index</th>\n",
       "        <th>barcode</th>\n",
       "        <th>category</th>\n",
       "        <th>categoryCode</th>\n",
       "        <th>name</th>\n",
       "        <th>topBrand</th>\n",
       "        <th>_id.$oid</th>\n",
       "        <th>cpg.$id.$oid</th>\n",
       "        <th>cpg.$ref</th>\n",
       "        <th>brandCode</th>\n",
       "    </tr>\n",
       "    <tr>\n",
       "        <td>0</td>\n",
       "        <td>511111019862</td>\n",
       "        <td>Baking</td>\n",
       "        <td>BAKING</td>\n",
       "        <td>test brand @1612366101024</td>\n",
       "        <td>0</td>\n",
       "        <td>601ac115be37ce2ead437551</td>\n",
       "        <td>601ac114be37ce2ead437550</td>\n",
       "        <td>Cogs</td>\n",
       "        <td>None</td>\n",
       "    </tr>\n",
       "    <tr>\n",
       "        <td>1</td>\n",
       "        <td>511111519928</td>\n",
       "        <td>Beverages</td>\n",
       "        <td>BEVERAGES</td>\n",
       "        <td>Starbucks</td>\n",
       "        <td>0</td>\n",
       "        <td>601c5460be37ce2ead43755f</td>\n",
       "        <td>5332f5fbe4b03c9a25efd0ba</td>\n",
       "        <td>Cogs</td>\n",
       "        <td>STARBUCKS</td>\n",
       "    </tr>\n",
       "    <tr>\n",
       "        <td>2</td>\n",
       "        <td>511111819905</td>\n",
       "        <td>Baking</td>\n",
       "        <td>BAKING</td>\n",
       "        <td>test brand @1612366146176</td>\n",
       "        <td>0</td>\n",
       "        <td>601ac142be37ce2ead43755d</td>\n",
       "        <td>601ac142be37ce2ead437559</td>\n",
       "        <td>Cogs</td>\n",
       "        <td>TEST BRANDCODE @1612366146176</td>\n",
       "    </tr>\n",
       "    <tr>\n",
       "        <td>3</td>\n",
       "        <td>511111519874</td>\n",
       "        <td>Baking</td>\n",
       "        <td>BAKING</td>\n",
       "        <td>test brand @1612366146051</td>\n",
       "        <td>0</td>\n",
       "        <td>601ac142be37ce2ead43755a</td>\n",
       "        <td>601ac142be37ce2ead437559</td>\n",
       "        <td>Cogs</td>\n",
       "        <td>TEST BRANDCODE @1612366146051</td>\n",
       "    </tr>\n",
       "    <tr>\n",
       "        <td>4</td>\n",
       "        <td>511111319917</td>\n",
       "        <td>Candy &amp; Sweets</td>\n",
       "        <td>CANDY_AND_SWEETS</td>\n",
       "        <td>test brand @1612366146827</td>\n",
       "        <td>0</td>\n",
       "        <td>601ac142be37ce2ead43755e</td>\n",
       "        <td>5332fa12e4b03c9a25efd1e7</td>\n",
       "        <td>Cogs</td>\n",
       "        <td>TEST BRANDCODE @1612366146827</td>\n",
       "    </tr>\n",
       "</table>"
      ],
      "text/plain": [
       "[(0, '511111019862', 'Baking', 'BAKING', 'test brand @1612366101024', 0, '601ac115be37ce2ead437551', '601ac114be37ce2ead437550', 'Cogs', None),\n",
       " (1, '511111519928', 'Beverages', 'BEVERAGES', 'Starbucks', 0, '601c5460be37ce2ead43755f', '5332f5fbe4b03c9a25efd0ba', 'Cogs', 'STARBUCKS'),\n",
       " (2, '511111819905', 'Baking', 'BAKING', 'test brand @1612366146176', 0, '601ac142be37ce2ead43755d', '601ac142be37ce2ead437559', 'Cogs', 'TEST BRANDCODE @1612366146176'),\n",
       " (3, '511111519874', 'Baking', 'BAKING', 'test brand @1612366146051', 0, '601ac142be37ce2ead43755a', '601ac142be37ce2ead437559', 'Cogs', 'TEST BRANDCODE @1612366146051'),\n",
       " (4, '511111319917', 'Candy & Sweets', 'CANDY_AND_SWEETS', 'test brand @1612366146827', 0, '601ac142be37ce2ead43755e', '5332fa12e4b03c9a25efd1e7', 'Cogs', 'TEST BRANDCODE @1612366146827')]"
      ]
     },
     "execution_count": 18,
     "metadata": {},
     "output_type": "execute_result"
    }
   ],
   "source": [
    "%%sql\n",
    "\n",
    "SELECT *\n",
    "FROM brands\n",
    "LIMIT 5"
   ]
  },
  {
   "cell_type": "code",
   "execution_count": 21,
   "id": "dda41fd3",
   "metadata": {},
   "outputs": [],
   "source": [
    "cnn.close()"
   ]
  },
  {
   "cell_type": "markdown",
   "id": "b8b2c66f",
   "metadata": {},
   "source": [
    "The queries stop working with the syntax I am using, so, for the sake of time, I will continue on using postgreSQL instead of sqlite. The quieries will not execute, but I will explain how I got to my answer and what I want to output to look like. "
   ]
  },
  {
   "cell_type": "markdown",
   "id": "37d05d08",
   "metadata": {},
   "source": [
    "# SQL Query"
   ]
  },
  {
   "cell_type": "markdown",
   "id": "6e7ba278",
   "metadata": {},
   "source": [
    "I will be answering the following question:\n",
    "\n",
    "Which brand has the most transactions among users who were created within the past 6 months?\n",
    "\n",
    "Requires information from all three tables\n",
    "\n",
    "Step 1: join the tables together\n",
    "\n",
    "Step 2: Add Where clause to filter for users from last 6 months, assuming that is September 1st (from the end of Febuary)\n",
    "\n",
    "Step 3: Select the number of transactions in that time by summing the number of receipts using r._id\n",
    "\n",
    "Step 4: Add brand name to the select statment and then add a group by clause, grouping by brand name\n",
    "\n",
    "Step 5: Sort by transactions descending\n",
    "\n",
    "Step 6: Limit the answer to the top 10"
   ]
  },
  {
   "cell_type": "code",
   "execution_count": null,
   "id": "6717cf4b",
   "metadata": {},
   "outputs": [],
   "source": [
    "%%sql\n",
    "\n",
    "SELECT b.name AS Brand,\n",
    "        SUM(r._id) AS transactions\n",
    "FROM receipts AS r\n",
    "INNER JOIN brands AS b\n",
    "    ON b._id = r._id\n",
    "INNER JOIN users AS u\n",
    "    ON r.user_Id = u._id\n",
    "WHERE u.createdDate > '2021-09-01 00:00:00[.000]'\n",
    "GROUP BY brand\n",
    "ORDER BY Transactions DESC\n",
    "LIMIT 10"
   ]
  }
 ],
 "metadata": {
  "kernelspec": {
   "display_name": "Python 3 (ipykernel)",
   "language": "python",
   "name": "python3"
  },
  "language_info": {
   "codemirror_mode": {
    "name": "ipython",
    "version": 3
   },
   "file_extension": ".py",
   "mimetype": "text/x-python",
   "name": "python",
   "nbconvert_exporter": "python",
   "pygments_lexer": "ipython3",
   "version": "3.9.7"
  }
 },
 "nbformat": 4,
 "nbformat_minor": 5
}
